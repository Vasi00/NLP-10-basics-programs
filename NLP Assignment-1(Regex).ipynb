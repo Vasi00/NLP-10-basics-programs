{
 "cells": [
  {
   "cell_type": "code",
   "execution_count": 1,
   "metadata": {},
   "outputs": [],
   "source": [
    "import re"
   ]
  },
  {
   "cell_type": "markdown",
   "metadata": {},
   "source": [
    "### 1. WAP to Count occurrences of a given character using Regex."
   ]
  },
  {
   "cell_type": "code",
   "execution_count": 133,
   "metadata": {},
   "outputs": [
    {
     "name": "stdout",
     "output_type": "stream",
     "text": [
      "['study']\n"
     ]
    },
    {
     "data": {
      "text/plain": [
       "1"
      ]
     },
     "execution_count": 133,
     "metadata": {},
     "output_type": "execute_result"
    }
   ],
   "source": [
    "txt = \"I am Vasi and I am studying NLP\"\n",
    "x = re.findall(\"study\", txt)\n",
    "print(x)\n",
    "len(x)"
   ]
  },
  {
   "cell_type": "code",
   "execution_count": 14,
   "metadata": {},
   "outputs": [
    {
     "name": "stdout",
     "output_type": "stream",
     "text": [
      "['am', 'am']\n"
     ]
    },
    {
     "data": {
      "text/plain": [
       "2"
      ]
     },
     "execution_count": 14,
     "metadata": {},
     "output_type": "execute_result"
    }
   ],
   "source": [
    "y=re.findall(\"am\", txt)\n",
    "print(y)\n",
    "len(y)"
   ]
  },
  {
   "cell_type": "markdown",
   "metadata": {},
   "source": [
    "### 2. WAP for simple pattern searching."
   ]
  },
  {
   "cell_type": "code",
   "execution_count": 16,
   "metadata": {},
   "outputs": [
    {
     "name": "stdout",
     "output_type": "stream",
     "text": [
      "['Sumit7@gmail.com', 'rahman.vasi@gmail.com,Rahman.vasi007@yahoo.com,', 'sadgionmail@gmail.com,', 'kuNalshm1@gmail.com', 'febin.1Bashir@hotmail.com']\n"
     ]
    }
   ],
   "source": [
    "s = 'Mail from Sumit7@gmail.com : Email address of the persons who applied for NLP course: rahman.vasi@gmail.com,\\\n",
    "Rahman.vasi007@yahoo.com, sadgionmail@gmail.com, kuNalshm1@gmail.com and febin.1Bashir@hotmail.com'\n",
    "  \n",
    "# \\S matches any non-whitespace character \n",
    "# @ for as in the Email \n",
    "# + for Repeats a character one or more times \n",
    "lst = re.findall('\\S+@\\S+', s)     \n",
    "  \n",
    "# Printing of List \n",
    "print(lst)"
   ]
  },
  {
   "cell_type": "markdown",
   "metadata": {},
   "source": [
    "### 3. WAP for simple regular expression searching."
   ]
  },
  {
   "cell_type": "code",
   "execution_count": 139,
   "metadata": {},
   "outputs": [
    {
     "data": {
      "text/plain": [
       "<re.Match object; span=(0, 1), match='I'>"
      ]
     },
     "execution_count": 139,
     "metadata": {},
     "output_type": "execute_result"
    }
   ],
   "source": [
    "txt = \"I have a new jacket\"\n",
    "x = re.search(\"\\w\", txt)\n",
    "x"
   ]
  },
  {
   "cell_type": "markdown",
   "metadata": {},
   "source": [
    "### 4. WA program to demonstrate Case Insensitive Searching."
   ]
  },
  {
   "cell_type": "code",
   "execution_count": 142,
   "metadata": {},
   "outputs": [
    {
     "data": {
      "text/plain": [
       "<re.Match object; span=(31, 42), match='Mathematics'>"
      ]
     },
     "execution_count": 142,
     "metadata": {},
     "output_type": "execute_result"
    }
   ],
   "source": [
    "txt=\"Vasi has a bachelors degree in Mathematics\"\n",
    "x = re.search('mAtheMatics', txt, re.IGNORECASE)\n",
    "x"
   ]
  },
  {
   "cell_type": "markdown",
   "metadata": {},
   "source": [
    "### 5. WA program to demonstrate working of split() to split a text based on a delimiter pattern"
   ]
  },
  {
   "cell_type": "code",
   "execution_count": 19,
   "metadata": {},
   "outputs": [
    {
     "data": {
      "text/plain": [
       "['Mail from Sumit7@gmail.com',\n",
       " 'Email address of the persons who applied for NLP course',\n",
       " 'rahman.vasi@gmail.com,Rahman.vasi007@yahoo.com, sadgionmail9@gmail.com, kuNalshm1@gmail.com and febin.1Bashir@hotmail.com']"
      ]
     },
     "execution_count": 19,
     "metadata": {},
     "output_type": "execute_result"
    }
   ],
   "source": [
    "s = 'Mail from Sumit7@gmail.com: Email address of the persons who applied for NLP course: rahman.vasi@gmail.com,\\\n",
    "Rahman.vasi007@yahoo.com, sadgionmail9@gmail.com, kuNalshm1@gmail.com and febin.1Bashir@hotmail.com'\n",
    "\n",
    "y = re.split(re.compile(\"|\".join([\": \"])), s)\n",
    "y"
   ]
  },
  {
   "cell_type": "markdown",
   "metadata": {},
   "source": [
    "### 6. WAP to Get the first letter of each word in a string using regex and 7. WAP to Print first letter of each word in a string using regex"
   ]
  },
  {
   "cell_type": "code",
   "execution_count": 12,
   "metadata": {},
   "outputs": [
    {
     "data": {
      "text/plain": [
       "'Ihanj'"
      ]
     },
     "execution_count": 12,
     "metadata": {},
     "output_type": "execute_result"
    }
   ],
   "source": [
    "input = \"I have a new jacket\"\n",
    "output = \"\".join(item[0] for item in re.findall(\"\\w+\", input))\n",
    "output"
   ]
  },
  {
   "cell_type": "markdown",
   "metadata": {},
   "source": [
    "### 8. WAP to Extract each word from a String using Regex"
   ]
  },
  {
   "cell_type": "code",
   "execution_count": 12,
   "metadata": {},
   "outputs": [
    {
     "data": {
      "text/plain": [
       "['I', 'have', 'a', 'new', 'jacket']"
      ]
     },
     "execution_count": 12,
     "metadata": {},
     "output_type": "execute_result"
    }
   ],
   "source": [
    "str1 = \"I have a new jacket\"\n",
    "output=str1.split()\n",
    "output"
   ]
  },
  {
   "cell_type": "markdown",
   "metadata": {},
   "source": [
    "### 9. WAP to remove vowels from a input String"
   ]
  },
  {
   "cell_type": "code",
   "execution_count": 99,
   "metadata": {},
   "outputs": [
    {
     "data": {
      "text/plain": [
       "' hv  nw jckt, sh'"
      ]
     },
     "execution_count": 99,
     "metadata": {},
     "output_type": "execute_result"
    }
   ],
   "source": [
    "str1 = \"I have a new jacket, Ashu\"\n",
    "vowels = ['a', 'e', 'i', 'o', 'u','A','E','I','O','U']\n",
    "output = \"\".join([i for i in str1 if i not in vowels])\n",
    "output"
   ]
  },
  {
   "cell_type": "code",
   "execution_count": 26,
   "metadata": {},
   "outputs": [
    {
     "data": {
      "text/plain": [
       "' hv  nw jckt, sh'"
      ]
     },
     "execution_count": 26,
     "metadata": {},
     "output_type": "execute_result"
    }
   ],
   "source": [
    "#OR without using join\n",
    "def rem_vowels(string): \n",
    "    return (re.sub(\"[aeiouAEIOU]\",\"\",string))             \n",
    "  \n",
    "string = \"I have a new jacket, Ashu\"\n",
    "rem_vowels(string)"
   ]
  },
  {
   "cell_type": "markdown",
   "metadata": {},
   "source": [
    "### 10. Program to remove consonants from an input String."
   ]
  },
  {
   "cell_type": "code",
   "execution_count": 44,
   "metadata": {},
   "outputs": [
    {
     "data": {
      "text/plain": [
       "'   a e a  e   a  e      u'"
      ]
     },
     "execution_count": 44,
     "metadata": {},
     "output_type": "execute_result"
    }
   ],
   "source": [
    "def rem_cons(string): \n",
    "    return (re.sub(\"[^aeiou]\", \" \", string))             \n",
    "  \n",
    "string = \"I have a new jacket, Ashu\"\n",
    "rem_cons(string)"
   ]
  },
  {
   "cell_type": "markdown",
   "metadata": {},
   "source": [
    "### 11. Program to check valid mobile number."
   ]
  },
  {
   "cell_type": "code",
   "execution_count": 132,
   "metadata": {},
   "outputs": [
    {
     "name": "stdout",
     "output_type": "stream",
     "text": [
      "Valid phone number\n"
     ]
    }
   ],
   "source": [
    "phn = \"91-9800424936\"\n",
    "if re.search(\"(0/91)?[6-9]\\d{9}$\", phn):\n",
    "    print(\"Valid phone number\")\n",
    "else:\n",
    "    print(\"Invalid phone number\")"
   ]
  }
 ],
 "metadata": {
  "kernelspec": {
   "display_name": "Python 3",
   "language": "python",
   "name": "python3"
  },
  "language_info": {
   "codemirror_mode": {
    "name": "ipython",
    "version": 3
   },
   "file_extension": ".py",
   "mimetype": "text/x-python",
   "name": "python",
   "nbconvert_exporter": "python",
   "pygments_lexer": "ipython3",
   "version": "3.7.3"
  }
 },
 "nbformat": 4,
 "nbformat_minor": 2
}
